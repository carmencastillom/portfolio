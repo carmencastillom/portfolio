{
 "cells": [
  {
   "cell_type": "markdown",
   "id": "817015a9",
   "metadata": {},
   "source": [
    "<hr style=\"height:.9px;border:none;color:#333;background-color:#333;\" />\n",
    "<hr style=\"height:.9px;border:none;color:#333;background-color:#333;\" />\n",
    "\n",
    "<br><h2>A1: Unsupervised Analysis Project (INDIVIDUAL)</h2>\n",
    "<h4> | Introduction to ML & AI</h4>\n",
    "MBAN - Hult International Business School<br>\n",
    "April 14, 2024 <br><br><br>\n",
    "\n",
    "<hr style=\"height:.9px;border:none;color:#333;background-color:#333;\" />\n",
    "<hr style=\"height:.9px;border:none;color:#333;background-color:#333;\" />\n",
    "\n",
    "<br>\n",
    "\n",
    "<h3>Analysis Introduction</h3><br>\n",
    "\n",
    "As a marketing consultant on Tkukyt firm on Thailand, this analysis will explore Social Media \n",
    "Thailand Market. Are PHOTOS the most engaging content_type? \n",
    "\n",
    "Previous insights suggest that the optimal timing for publishing content in Thailand is the early morning particularly around 7AM and, Wednesday being the best day for publishing follow super close during the weekend, which makes sense so it is when people are more free so they have more spare time to use social media.  This assignment will compare how photos perform with others types of content such as videos and texts. \n",
    "\n",
    "By exploring these dynamics, this analysis will come with some ideas so Tkukyt firm and recommendations to engage in a better way the audience, so they can improve social medias strategy. \n",
    "\n",
    "\n",
    "\n",
    "<hr style=\"height:.9px;border:none;color:#333;background-color:#333;\" />"
   ]
  },
  {
   "cell_type": "code",
   "execution_count": 341,
   "id": "ec861009",
   "metadata": {},
   "outputs": [
    {
     "data": {
      "text/html": [
       "<div>\n",
       "<style scoped>\n",
       "    .dataframe tbody tr th:only-of-type {\n",
       "        vertical-align: middle;\n",
       "    }\n",
       "\n",
       "    .dataframe tbody tr th {\n",
       "        vertical-align: top;\n",
       "    }\n",
       "\n",
       "    .dataframe thead th {\n",
       "        text-align: right;\n",
       "    }\n",
       "</style>\n",
       "<table border=\"1\" class=\"dataframe\">\n",
       "  <thead>\n",
       "    <tr style=\"text-align: right;\">\n",
       "      <th></th>\n",
       "      <th>status_id</th>\n",
       "      <th>status_type</th>\n",
       "      <th>time_published</th>\n",
       "      <th>num_comments</th>\n",
       "      <th>num_shares</th>\n",
       "      <th>num_likes</th>\n",
       "      <th>num_loves</th>\n",
       "      <th>num_wows</th>\n",
       "      <th>num_hahas</th>\n",
       "      <th>num_sads</th>\n",
       "      <th>num_angrys</th>\n",
       "    </tr>\n",
       "  </thead>\n",
       "  <tbody>\n",
       "    <tr>\n",
       "      <th>0</th>\n",
       "      <td>1</td>\n",
       "      <td>photo</td>\n",
       "      <td>2023-07-04 22:45:00</td>\n",
       "      <td>0</td>\n",
       "      <td>0</td>\n",
       "      <td>150</td>\n",
       "      <td>0</td>\n",
       "      <td>0</td>\n",
       "      <td>0</td>\n",
       "      <td>0</td>\n",
       "      <td>0</td>\n",
       "    </tr>\n",
       "    <tr>\n",
       "      <th>1</th>\n",
       "      <td>2</td>\n",
       "      <td>photo</td>\n",
       "      <td>2023-06-23 01:01:00</td>\n",
       "      <td>2</td>\n",
       "      <td>3</td>\n",
       "      <td>202</td>\n",
       "      <td>7</td>\n",
       "      <td>1</td>\n",
       "      <td>0</td>\n",
       "      <td>0</td>\n",
       "      <td>0</td>\n",
       "    </tr>\n",
       "    <tr>\n",
       "      <th>2</th>\n",
       "      <td>3</td>\n",
       "      <td>photo</td>\n",
       "      <td>2023-06-21 02:23:00</td>\n",
       "      <td>4</td>\n",
       "      <td>0</td>\n",
       "      <td>200</td>\n",
       "      <td>8</td>\n",
       "      <td>1</td>\n",
       "      <td>0</td>\n",
       "      <td>0</td>\n",
       "      <td>0</td>\n",
       "    </tr>\n",
       "    <tr>\n",
       "      <th>3</th>\n",
       "      <td>4</td>\n",
       "      <td>video</td>\n",
       "      <td>2023-06-14 05:16:00</td>\n",
       "      <td>100</td>\n",
       "      <td>30</td>\n",
       "      <td>303</td>\n",
       "      <td>23</td>\n",
       "      <td>1</td>\n",
       "      <td>5</td>\n",
       "      <td>0</td>\n",
       "      <td>0</td>\n",
       "    </tr>\n",
       "    <tr>\n",
       "      <th>4</th>\n",
       "      <td>5</td>\n",
       "      <td>video</td>\n",
       "      <td>2023-06-08 08:28:00</td>\n",
       "      <td>173</td>\n",
       "      <td>47</td>\n",
       "      <td>132</td>\n",
       "      <td>16</td>\n",
       "      <td>1</td>\n",
       "      <td>0</td>\n",
       "      <td>1</td>\n",
       "      <td>0</td>\n",
       "    </tr>\n",
       "    <tr>\n",
       "      <th>5</th>\n",
       "      <td>6</td>\n",
       "      <td>photo</td>\n",
       "      <td>2023-06-03 08:40:00</td>\n",
       "      <td>15</td>\n",
       "      <td>1</td>\n",
       "      <td>221</td>\n",
       "      <td>12</td>\n",
       "      <td>1</td>\n",
       "      <td>0</td>\n",
       "      <td>0</td>\n",
       "      <td>0</td>\n",
       "    </tr>\n",
       "    <tr>\n",
       "      <th>6</th>\n",
       "      <td>7</td>\n",
       "      <td>video</td>\n",
       "      <td>2023-06-01 22:34:00</td>\n",
       "      <td>0</td>\n",
       "      <td>1</td>\n",
       "      <td>37</td>\n",
       "      <td>0</td>\n",
       "      <td>0</td>\n",
       "      <td>0</td>\n",
       "      <td>0</td>\n",
       "      <td>0</td>\n",
       "    </tr>\n",
       "    <tr>\n",
       "      <th>7</th>\n",
       "      <td>8</td>\n",
       "      <td>photo</td>\n",
       "      <td>2023-05-22 05:55:00</td>\n",
       "      <td>0</td>\n",
       "      <td>0</td>\n",
       "      <td>81</td>\n",
       "      <td>2</td>\n",
       "      <td>2</td>\n",
       "      <td>0</td>\n",
       "      <td>0</td>\n",
       "      <td>0</td>\n",
       "    </tr>\n",
       "    <tr>\n",
       "      <th>8</th>\n",
       "      <td>9</td>\n",
       "      <td>photo</td>\n",
       "      <td>2023-05-18 02:48:00</td>\n",
       "      <td>8</td>\n",
       "      <td>0</td>\n",
       "      <td>281</td>\n",
       "      <td>11</td>\n",
       "      <td>1</td>\n",
       "      <td>0</td>\n",
       "      <td>0</td>\n",
       "      <td>0</td>\n",
       "    </tr>\n",
       "    <tr>\n",
       "      <th>9</th>\n",
       "      <td>10</td>\n",
       "      <td>photo</td>\n",
       "      <td>2023-05-13 01:43:00</td>\n",
       "      <td>11</td>\n",
       "      <td>6</td>\n",
       "      <td>61</td>\n",
       "      <td>4</td>\n",
       "      <td>1</td>\n",
       "      <td>0</td>\n",
       "      <td>0</td>\n",
       "      <td>0</td>\n",
       "    </tr>\n",
       "  </tbody>\n",
       "</table>\n",
       "</div>"
      ],
      "text/plain": [
       "   status_id status_type      time_published  num_comments  num_shares  num_likes  num_loves  num_wows  num_hahas  num_sads  num_angrys\n",
       "0          1       photo 2023-07-04 22:45:00             0           0        150          0         0          0         0           0\n",
       "1          2       photo 2023-06-23 01:01:00             2           3        202          7         1          0         0           0\n",
       "2          3       photo 2023-06-21 02:23:00             4           0        200          8         1          0         0           0\n",
       "3          4       video 2023-06-14 05:16:00           100          30        303         23         1          5         0           0\n",
       "4          5       video 2023-06-08 08:28:00           173          47        132         16         1          0         1           0\n",
       "5          6       photo 2023-06-03 08:40:00            15           1        221         12         1          0         0           0\n",
       "6          7       video 2023-06-01 22:34:00             0           1         37          0         0          0         0           0\n",
       "7          8       photo 2023-05-22 05:55:00             0           0         81          2         2          0         0           0\n",
       "8          9       photo 2023-05-18 02:48:00             8           0        281         11         1          0         0           0\n",
       "9         10       photo 2023-05-13 01:43:00            11           6         61          4         1          0         0           0"
      ]
     },
     "execution_count": 341,
     "metadata": {},
     "output_type": "execute_result"
    }
   ],
   "source": [
    "##############################################################################\n",
    "############################## Importing packages ############################\n",
    "##############################################################################\n",
    "\n",
    "import numpy                 as np  # mathematical essentials\n",
    "import pandas                as pd  # data science essentials\n",
    "import matplotlib.pyplot     as plt # fundamental data visualization\n",
    "import seaborn               as sns # enhanced visualizations\n",
    "\n",
    "# packages for unsupervised learning\n",
    "from sklearn.preprocessing   import StandardScaler      # standard scaler\n",
    "from sklearn.decomposition   import PCA                 # pca\n",
    "from scipy.cluster.hierarchy import dendrogram, linkage # dendrograms\n",
    "from sklearn.cluster         import KMeans    \n",
    "\n",
    "import numpy as np                                          # mathematical essentials\n",
    "import pandas as pd                                         # data science essentials\n",
    "from sklearn.decomposition import PCA                       # principal component analysis\n",
    "from sklearn.model_selection import train_test_split        # train-test split\n",
    "from sklearn.preprocessing import StandardScaler            # data prep\n",
    "from sklearn.metrics import confusion_matrix, roc_auc_score # results analysis\n",
    "from sklearn.cluster import KMeans                          # k-means clustering\n",
    "import sklearn.linear_model   \n",
    "\n",
    "########################################\n",
    "# loading data and setting display options\n",
    "########################################\n",
    "# loading data\n",
    "df = pd.read_excel('./datasets/facebook_live_data.xlsx')\n",
    "\n",
    "\n",
    "# setting print options\n",
    "pd.set_option('display.max_rows', 500)\n",
    "pd.set_option('display.max_columns', 500)\n",
    "pd.set_option('display.width', 1000)\n",
    "pd.set_option('display.max_colwidth', 100)\n",
    "\n",
    "\n",
    "df.head(n = 10)"
   ]
  },
  {
   "cell_type": "markdown",
   "id": "7cb88010",
   "metadata": {},
   "source": [
    "\n",
    "<hr style=\"height:.9px;border:none;color:#333;background-color:#333;\" />\n",
    "\n",
    "<h3>Analysis Questions</h3>\n",
    "\n",
    "<p>\n",
    "1. How do photos perform when compared to other forms of content?\n",
    "On the first graph below, Performance Photos, Videos and Text, we can clearly see that Videos are\n",
    "the content which perform better in compared to Photos and Text. Photo performs better than text but \n",
    "it performs worse than Videos. Photos Received more likes than any other category, videos lead \n",
    "in terms of comments, shares, loves, wows, hahas, sads and angrys. Text, is the last category in terms of\n",
    "reactions. Text has all metrics quite low in compared to the other two categories. There is below as well \n",
    "a summary with each metric per category. The highest category across the three types of post are num_likes\n",
    "</p>\n",
    "<p>\n",
    "2. Are photos leading in terms of total engagement? What about in specif engagement or reaction?   \n",
    "In order to measure total engagement we have calculated the average interactions per post for each\n",
    "status type. Regarding the engagement, we can see than again videos are the winners. Photos are the second \n",
    "on the podium but however, this time they do not have a lot of difference in compared to Text\n",
    "</p>\n",
    "\n",
    "<hr style=\"height:.9px;border:none;color:#333;background-color:#333;\" />\n"
   ]
  },
  {
   "cell_type": "code",
   "execution_count": 342,
   "id": "101d6291",
   "metadata": {},
   "outputs": [
    {
     "name": "stdout",
     "output_type": "stream",
     "text": [
      "             num_comments  num_shares  num_likes  num_loves  num_wows  num_hahas  num_sads  num_angrys\n",
      "status_type                                                                                           \n",
      "photo               31796        4385     253180       2009       983        168       239          78\n",
      "text                 5898         517      72918        189       134         20        40           2\n",
      "video              514376       89158     196253      28100      1912       1560       336         210\n"
     ]
    },
    {
     "data": {
      "image/png": "[encoded data removed]",
      "text/plain": [
       "<Figure size 1000x600 with 1 Axes>"
      ]
     },
     "metadata": {},
     "output_type": "display_data"
    }
   ],
   "source": [
    "#Getting the unique status_type on Dataset. \n",
    "unique_statuses = df['status_type'].unique()\n",
    "\n",
    "# We have three different types of status_type: Photo, video and Text.\n",
    "\n",
    "# Group the DataFrame by 'status_type' and calculate the sum of interactions for each type\n",
    "interaction_sum = df.groupby('status_type')[['num_comments', 'num_shares', 'num_likes', 'num_loves', 'num_wows', 'num_hahas', 'num_sads', 'num_angrys']].sum()\n",
    "\n",
    "# Print the interaction sums\n",
    "print(interaction_sum)\n",
    "\n",
    "# Plotting the interaction sums\n",
    "interaction_sum.plot(kind='bar', stacked=True, figsize=(10, 6))\n",
    "plt.title('Performance Photos, Videos and Text')\n",
    "plt.xlabel('Status Type')\n",
    "plt.ylabel('Sum of Interactions')\n",
    "plt.xticks(rotation=0)  # Rotate x-axis labels if necessary\n",
    "plt.legend(title='Interactions')\n",
    "plt.show()"
   ]
  },
  {
   "cell_type": "code",
   "execution_count": 343,
   "id": "37ed0b3c",
   "metadata": {},
   "outputs": [
    {
     "data": {
      "text/html": [
       "<div>\n",
       "<style scoped>\n",
       "    .dataframe tbody tr th:only-of-type {\n",
       "        vertical-align: middle;\n",
       "    }\n",
       "\n",
       "    .dataframe tbody tr th {\n",
       "        vertical-align: top;\n",
       "    }\n",
       "\n",
       "    .dataframe thead th {\n",
       "        text-align: right;\n",
       "    }\n",
       "</style>\n",
       "<table border=\"1\" class=\"dataframe\">\n",
       "  <thead>\n",
       "    <tr style=\"text-align: right;\">\n",
       "      <th></th>\n",
       "      <th>num_comments</th>\n",
       "      <th>num_shares</th>\n",
       "      <th>num_likes</th>\n",
       "      <th>num_loves</th>\n",
       "      <th>num_wows</th>\n",
       "      <th>num_hahas</th>\n",
       "      <th>num_sads</th>\n",
       "      <th>num_angrys</th>\n",
       "    </tr>\n",
       "    <tr>\n",
       "      <th>status_type</th>\n",
       "      <th></th>\n",
       "      <th></th>\n",
       "      <th></th>\n",
       "      <th></th>\n",
       "      <th></th>\n",
       "      <th></th>\n",
       "      <th></th>\n",
       "      <th></th>\n",
       "    </tr>\n",
       "  </thead>\n",
       "  <tbody>\n",
       "    <tr>\n",
       "      <th>photo</th>\n",
       "      <td>22.034650</td>\n",
       "      <td>3.038808</td>\n",
       "      <td>175.453915</td>\n",
       "      <td>1.392238</td>\n",
       "      <td>0.681220</td>\n",
       "      <td>0.116424</td>\n",
       "      <td>0.165627</td>\n",
       "      <td>0.054054</td>\n",
       "    </tr>\n",
       "    <tr>\n",
       "      <th>text</th>\n",
       "      <td>37.807692</td>\n",
       "      <td>3.314103</td>\n",
       "      <td>467.423077</td>\n",
       "      <td>1.211538</td>\n",
       "      <td>0.858974</td>\n",
       "      <td>0.128205</td>\n",
       "      <td>0.256410</td>\n",
       "      <td>0.012821</td>\n",
       "    </tr>\n",
       "    <tr>\n",
       "      <th>video</th>\n",
       "      <td>674.149410</td>\n",
       "      <td>116.851900</td>\n",
       "      <td>257.212320</td>\n",
       "      <td>36.828309</td>\n",
       "      <td>2.505898</td>\n",
       "      <td>2.044561</td>\n",
       "      <td>0.440367</td>\n",
       "      <td>0.275229</td>\n",
       "    </tr>\n",
       "  </tbody>\n",
       "</table>\n",
       "</div>"
      ],
      "text/plain": [
       "             num_comments  num_shares   num_likes  num_loves  num_wows  num_hahas  num_sads  num_angrys\n",
       "status_type                                                                                            \n",
       "photo           22.034650    3.038808  175.453915   1.392238  0.681220   0.116424  0.165627    0.054054\n",
       "text            37.807692    3.314103  467.423077   1.211538  0.858974   0.128205  0.256410    0.012821\n",
       "video          674.149410  116.851900  257.212320  36.828309  2.505898   2.044561  0.440367    0.275229"
      ]
     },
     "execution_count": 343,
     "metadata": {},
     "output_type": "execute_result"
    }
   ],
   "source": [
    "##############################################################################\n",
    "################################ Engagement ##################################\n",
    "##############################################################################\n",
    "\n",
    "# Count the number of posts for each status type\n",
    "num_posts = df['status_type'].value_counts()\n",
    "\n",
    "# Calculate the average interactions per post for each status type\n",
    "average_interactions_per_post = interaction_sum.div(num_posts, axis=0)\n",
    "\n",
    "# Print the average interactions per post\n",
    "average_interactions_per_post"
   ]
  },
  {
   "cell_type": "code",
   "execution_count": 344,
   "id": "785f9f21",
   "metadata": {},
   "outputs": [
    {
     "data": {
      "image/png": "[encoded data removed]",
      "text/plain": [
       "<Figure size 1000x500 with 1 Axes>"
      ]
     },
     "metadata": {},
     "output_type": "display_data"
    }
   ],
   "source": [
    "##############################################################################\n",
    "############################ Time series analysis ############################\n",
    "##############################################################################\n",
    "\n",
    "# 1. Distribution of post depending on the hour all posts \n",
    "\n",
    "# Assuming the DataFrame and the hourly_distribution have been prepared as before\n",
    "max_hour = hourly_distribution.idxmax()  # Find the hour with the maximum posts\n",
    "\n",
    "colors = ['red' if i == max_hour else 'blue' for i in hourly_distribution.index]  # Red for max hour, blue for others\n",
    "\n",
    "# Plot\n",
    "plt.figure(figsize=(10, 5))\n",
    "hourly_distribution.plot(kind='bar', color=colors)  # Use the custom colors list\n",
    "plt.title('Distribution of Posts by Hour of the Day')\n",
    "plt.xlabel('Hour of the Day')\n",
    "plt.ylabel('Number of Posts')\n",
    "plt.xticks(rotation=0)\n",
    "plt.show()\n"
   ]
  },
  {
   "cell_type": "code",
   "execution_count": 345,
   "id": "590f8f6f",
   "metadata": {},
   "outputs": [
    {
     "data": {
      "image/png": "[encoded data removed]",
      "text/plain": [
       "<Figure size 1000x500 with 1 Axes>"
      ]
     },
     "metadata": {},
     "output_type": "display_data"
    }
   ],
   "source": [
    "# 2. Distribution of post depending oh the Day of the Week\n",
    "\n",
    "# Assuming the DataFrame 'df' has been prepared with 'time_published' in datetime format\n",
    "max_day = weekly_distribution.idxmax()  # Find the day with the maximum posts\n",
    "\n",
    "# Create a color array, red for the day with the most posts, 'skyblue' for others\n",
    "colors = ['red' if day == max_day else 'skyblue' for day in weekly_distribution.index]\n",
    "\n",
    "# Plot the distribution\n",
    "plt.figure(figsize=(10, 5))\n",
    "weekly_distribution.plot(kind='bar', color=colors)\n",
    "plt.title('Distribution of Posts by Day of the Week')\n",
    "plt.xlabel('Day of the Week')\n",
    "plt.ylabel('Number of Posts')\n",
    "plt.xticks(rotation=45)\n",
    "plt.show()\n"
   ]
  },
  {
   "cell_type": "code",
   "execution_count": 346,
   "id": "537b4360",
   "metadata": {},
   "outputs": [
    {
     "data": {
      "image/png": "[encoded data removed]",
      "text/plain": [
       "<Figure size 1000x800 with 2 Axes>"
      ]
     },
     "metadata": {},
     "output_type": "display_data"
    }
   ],
   "source": [
    "##############################################################################\n",
    "###############################  HeatMap #####################################\n",
    "##############################################################################\n",
    "\n",
    "#Creating a df to drop non - numerical values\n",
    "df_special = df.drop(['status_id',\n",
    "                 'status_type',], axis=1)\n",
    "\n",
    "#Compute the correlation matrix\n",
    "\n",
    "corr_matrix = df_special.corr()\n",
    "\n",
    "# Set up the matplotlib figure\n",
    "plt.figure(figsize=(10, 8))\n",
    "\n",
    "# Draw the heatmap with the mask and correct aspect ratio\n",
    "sns.heatmap(corr_matrix, annot=True, fmt=\".2f\", cmap='coolwarm', square=True, linewidths=.5, cbar_kws={\"shrink\": .5})\n",
    "\n",
    "# Show the plot \n",
    "plt.show()\n"
   ]
  },
  {
   "cell_type": "markdown",
   "id": "a5513493",
   "metadata": {},
   "source": [
    "<hr style=\"height:.9px;border:none;color:#333;background-color:#333;\" />\n",
    "\n",
    "<h3>Standarization</h3>\n",
    "\n",
    "\n",
    "\n",
    "<hr style=\"height:.9px;border:none;color:#333;background-color:#333;\" />"
   ]
  },
  {
   "cell_type": "code",
   "execution_count": 361,
   "id": "4252cadc",
   "metadata": {},
   "outputs": [],
   "source": [
    "##############################################################################\n",
    "################################ Scree_plot ##################################\n",
    "##############################################################################\n",
    "\n",
    "def scree_plot(pca_object, export = False):\n",
    "    # building a scree plot\n",
    "\n",
    "    # setting plot size\n",
    "    fig, ax = plt.subplots(figsize=(10, 8))\n",
    "    features = range(pca_object.n_components_)\n",
    "\n",
    "\n",
    "    # developing a scree plot\n",
    "    plt.plot(features,\n",
    "             pca_object.explained_variance_ratio_,\n",
    "             linewidth = 2,\n",
    "             marker = 'o',\n",
    "             markersize = 10,\n",
    "             markeredgecolor = 'black',\n",
    "             markerfacecolor = 'grey')\n",
    "\n",
    "\n",
    "    # setting more plot options\n",
    "    plt.title('Scree Plot')\n",
    "    plt.xlabel('PCA feature')\n",
    "    plt.ylabel('Explained Variance')\n",
    "    plt.xticks(features)\n",
    "\n",
    "    if vertical_line_xloc:\n",
    "        plt.axvline(vertical_line_xloc, linestyle='--', color='red')#visualizing the Red Line\n",
    "   \n",
    "        \n",
    "    # displaying the plot\n",
    "    plt.show()\n",
    "\n",
    "##############################################################################\n",
    "###########################   unsupervised_scaler ##########################\n",
    "########################################\n",
    "def scaler(df):\n",
    "    \"\"\"\n",
    "    Standardizes a dataset (mean = 0, variance = 1). Returns a new DataFrame.\n",
    "    Requires sklearn.preprocessing.StandardScaler()\n",
    "    \n",
    "    PARAMETERS\n",
    "    ----------\n",
    "    df     | DataFrame to be used for scaling\n",
    "    \"\"\"\n",
    "\n",
    "    # INSTANTIATING a StandardScaler() object\n",
    "    scaler = StandardScaler(copy = True)\n",
    "\n",
    "\n",
    "    # FITTING the scaler with the data\n",
    "    scaler.fit(df)\n",
    "\n",
    "\n",
    "    # TRANSFORMING our data after fit\n",
    "    x_scaled = scaler.transform(df)\n",
    "\n",
    "    \n",
    "    # converting scaled data into a DataFrame\n",
    "    new_df = pd.DataFrame(x_scaled)\n",
    "\n",
    "\n",
    "    # reattaching column names\n",
    "    new_df.columns = list(df.columns)\n",
    "    \n",
    "    return new_df"
   ]
  },
  {
   "cell_type": "code",
   "execution_count": 362,
   "id": "4795ccd6",
   "metadata": {},
   "outputs": [
    {
     "name": "stdout",
     "output_type": "stream",
     "text": [
      "num_comments    733040.526533\n",
      "num_shares       15315.110634\n",
      "num_likes       218288.813477\n",
      "num_loves         1680.086166\n",
      "num_wows            75.978259\n",
      "num_hahas           16.896863\n",
      "num_sads             3.392409\n",
      "num_angrys           0.817271\n",
      "dtype: float64 \n",
      "\n",
      "\n",
      "num_comments    1.0\n",
      "num_shares      1.0\n",
      "num_likes       1.0\n",
      "num_loves       1.0\n",
      "num_wows        1.0\n",
      "num_hahas       1.0\n",
      "num_sads        1.0\n",
      "num_angrys      1.0\n",
      "dtype: float64\n"
     ]
    },
    {
     "name": "stderr",
     "output_type": "stream",
     "text": [
      "/Users/carmencastillomartin/anaconda3/lib/python3.11/site-packages/numpy/core/fromnumeric.py:3745: FutureWarning: The behavior of DataFrame.var with axis=None is deprecated, in a future version this will reduce over both axes and return a scalar. To retain the old behavior, pass axis=0 (or do not pass axis)\n",
      "  return var(axis=axis, dtype=dtype, out=out, ddof=ddof, **kwargs)\n"
     ]
    }
   ],
   "source": [
    "##############################################################################\n",
    "################################ Pre- PCA ####################################\n",
    "##############################################################################\n",
    "\n",
    "# Dropping info that we are nor gonna use.\n",
    "df_pca = df.drop( ['status_id',\n",
    "                 'status_type', 'time_published'],\n",
    "                 axis = 1)\n",
    "\n",
    "# applying the unsupervised_scaler function\n",
    "df_pca_scaled = scaler(df = df_pca)\n",
    "\n",
    "print(np.var(df_pca), '\\n\\n')\n",
    "print(np.var(df_pca_scaled))"
   ]
  },
  {
   "cell_type": "markdown",
   "id": "0ba51b61",
   "metadata": {},
   "source": [
    "<hr style=\"height:.9px;border:none;color:#333;background-color:#333;\" />\n",
    "\n",
    "<h3>PCA: Principal Components Analysis</h3>\n",
    "\n",
    "<p>\n",
    "1.Scree Plot and How many components to retain:\n",
    "Below, there is the graphical representation of the variance explained by each principal component\n",
    "in a PCA analysis.With the 'elbow' method is simply to decide how many PCA to retained. On the plot below, \n",
    "the first three components seem to have a more substantial drop from one to the next than subsequent components. The first principal component explains significantly more variance than the others, and after the third component, the decrease in variance explained by additional components becomes more gradual and levels off. This analysis will retain three principal components as it is clear seen that the first three components explain most of the variance, and after them, the amount of additional variance explained is much less. Beyond three components, we are likely to be capturing less informative variation and more noise. There is a vertical red line developed on the plot to see till which point we need to retain.    \n",
    "</p>\n",
    "\n",
    "<p>\n",
    "2. Interpret each of your retained principal components. Remember to interpret both sides of each principal component: \n",
    "    \n",
    "Positive Side PCA:\n",
    "    \n",
    "Viral Publications on San Valentin: \n",
    "Key drivers, shares and loves. The high correlation with 'love' appears further underscores that these post likely evoke strong positive emotions, which are essential for virality on special occasions. These emotions might be driven by romantic themes, attractive visuals, engaging narratives that are particular relevant to Valentine´s Day\n",
    "\n",
    "Informative Content news: \n",
    "Key drives: Likes and occasionally Wows. News content typically gain engagement through 'likes', which means a general approval or acknowledgment of the information. This pattern suggests that while the audience might not always dive into share of content, the value of the content is good enough to signal audience approval through likes. \n",
    "    \n",
    "Unsuccessful post: \n",
    "These post indicates a general lack of resonance with the audience. Maybe due to low value post or wrong targets or perhaps timings.\n",
    "\n",
    "Negative Side PCA:\n",
    "Negative values show that while the PCA increases, the original value tends to increase. Let´s analyze negative values on the \n",
    "\n",
    "Viral Publications on San Valentin: \n",
    "This PCA does not have any negative value, so that means all the reactions correlated well to the column \n",
    "\n",
    "Informative Content news: \n",
    "Negative values: It explains post that people do not like to share or comments and this is very common for news post, where people feel feel engaged but they do not want to share. \n",
    "    \n",
    "Unsuccessful post: \n",
    "Negatives correlations totally indicates why people why this PCA has been categorized as unsuccessful post so they do not feel any engagement. The negative values here remember that the contents are irrelevant to the audience.\n",
    "    \n",
    "</p>\n",
    "\n",
    "<hr style=\"height:.9px;border:none;color:#333;background-color:#333;\" />"
   ]
  },
  {
   "cell_type": "code",
   "execution_count": 363,
   "id": "4bbd3d62",
   "metadata": {},
   "outputs": [
    {
     "data": {
      "image/png": "[encoded data removed]",
      "text/plain": [
       "<Figure size 1000x800 with 1 Axes>"
      ]
     },
     "metadata": {},
     "output_type": "display_data"
    }
   ],
   "source": [
    "##############################################################################\n",
    "###################################  PCA #####################################\n",
    "##############################################################################\n",
    "#Developing Scree Plot and non restriction\n",
    "\n",
    "pca = PCA(n_components = None,\n",
    "          random_state = 702)\n",
    "\n",
    "\n",
    "# FITTING and TRANSFORMING the scaled data\n",
    "pca = PCA(n_components=None, random_state=702)\n",
    "\n",
    "# Fit and transform the data\n",
    "pca_fit = pca.fit_transform(X=df_pca_scaled)\n",
    "\n",
    "scree_plot(pca_object = pca)"
   ]
  },
  {
   "cell_type": "code",
   "execution_count": 365,
   "id": "7fdb32b7",
   "metadata": {},
   "outputs": [],
   "source": [
    "## PCA with now n_components = 2\n",
    "pca_2 = PCA(n_components = 3,\n",
    "          random_state = 702)\n",
    "\n",
    "\n",
    "# FITTING and TRANSFORMING the scaled data\n",
    "pca_fit_2 = pca_2.fit_transform(X = df_pca_scaled)\n",
    "\n",
    "\n",
    "\n"
   ]
  },
  {
   "cell_type": "code",
   "execution_count": 366,
   "id": "3ee95184",
   "metadata": {},
   "outputs": [
    {
     "name": "stdout",
     "output_type": "stream",
     "text": [
      "\n",
      "MAX Components Factor Loadings\n",
      "------------------------------\n",
      "                 0     1     2     3     4     5     6     7\n",
      "num_comments  0.41 -0.31 -0.03 -0.20 -0.39 -0.18  0.67 -0.24\n",
      "num_shares    0.49 -0.12  0.05 -0.17 -0.21 -0.22 -0.33  0.71\n",
      "num_likes     0.16  0.73 -0.35  0.25 -0.49  0.11  0.05  0.00\n",
      "num_loves     0.50  0.00  0.06 -0.08  0.01 -0.06 -0.56 -0.65\n",
      "num_wows      0.30  0.48  0.08 -0.08  0.64 -0.42  0.29  0.04\n",
      "num_hahas     0.37  0.01 -0.05 -0.20  0.28  0.84  0.14  0.12\n",
      "num_sads      0.20 -0.35 -0.68  0.54  0.27 -0.09 -0.01  0.03\n",
      "num_angrys    0.22 -0.04  0.63  0.72 -0.04  0.11  0.11  0.04\n",
      "\n",
      "\n",
      "2 Components Factor Loadings\n",
      "------------------------------\n",
      "                 0     1     2\n",
      "num_comments  0.41 -0.31 -0.03\n",
      "num_shares    0.49 -0.12  0.05\n",
      "num_likes     0.16  0.73 -0.35\n",
      "num_loves     0.50  0.00  0.06\n",
      "num_wows      0.30  0.48  0.08\n",
      "num_hahas     0.37  0.01 -0.05\n",
      "num_sads      0.20 -0.35 -0.68\n",
      "num_angrys    0.22 -0.04  0.63\n",
      "\n"
     ]
    }
   ],
   "source": [
    "####################\n",
    "### Max PC Model ###\n",
    "####################\n",
    "# transposing pca components (pc = MAX)\n",
    "factor_loadings = pd.DataFrame(np.transpose(pca.components_))\n",
    "\n",
    "\n",
    "# naming rows as original features\n",
    "factor_loadings = factor_loadings.set_index(df_pca_scaled.columns)\n",
    "\n",
    "\n",
    "##################\n",
    "### 3 PC Model ###\n",
    "##################\n",
    "# transposing pca components (pc = 2)\n",
    "factor_loadings_2 = pd.DataFrame(np.transpose(pca_2.components_))\n",
    "\n",
    "\n",
    "# naming rows as original features\n",
    "factor_loadings_2 = factor_loadings_2.set_index(df_pca_scaled.columns)\n",
    "\n",
    "\n",
    "# checking the results\n",
    "print(f\"\"\"\n",
    "MAX Components Factor Loadings\n",
    "------------------------------\n",
    "{factor_loadings.round(2)}\n",
    "\n",
    "\n",
    "2 Components Factor Loadings\n",
    "------------------------------\n",
    "{factor_loadings_2.round(2)}\n",
    "\"\"\")"
   ]
  },
  {
   "cell_type": "code",
   "execution_count": 367,
   "id": "15823cb0",
   "metadata": {},
   "outputs": [
    {
     "data": {
      "text/html": [
       "<div>\n",
       "<style scoped>\n",
       "    .dataframe tbody tr th:only-of-type {\n",
       "        vertical-align: middle;\n",
       "    }\n",
       "\n",
       "    .dataframe tbody tr th {\n",
       "        vertical-align: top;\n",
       "    }\n",
       "\n",
       "    .dataframe thead th {\n",
       "        text-align: right;\n",
       "    }\n",
       "</style>\n",
       "<table border=\"1\" class=\"dataframe\">\n",
       "  <thead>\n",
       "    <tr style=\"text-align: right;\">\n",
       "      <th></th>\n",
       "      <th>Viral publication on San Valentin</th>\n",
       "      <th>Informative Content (News)</th>\n",
       "      <th>Unsuccessful Post</th>\n",
       "    </tr>\n",
       "  </thead>\n",
       "  <tbody>\n",
       "    <tr>\n",
       "      <th>num_comments</th>\n",
       "      <td>0.411986</td>\n",
       "      <td>-0.309146</td>\n",
       "      <td>-0.027735</td>\n",
       "    </tr>\n",
       "    <tr>\n",
       "      <th>num_shares</th>\n",
       "      <td>0.489206</td>\n",
       "      <td>-0.120280</td>\n",
       "      <td>0.052642</td>\n",
       "    </tr>\n",
       "    <tr>\n",
       "      <th>num_likes</th>\n",
       "      <td>0.160566</td>\n",
       "      <td>0.730318</td>\n",
       "      <td>-0.347984</td>\n",
       "    </tr>\n",
       "    <tr>\n",
       "      <th>num_loves</th>\n",
       "      <td>0.500223</td>\n",
       "      <td>0.002535</td>\n",
       "      <td>0.064043</td>\n",
       "    </tr>\n",
       "    <tr>\n",
       "      <th>num_wows</th>\n",
       "      <td>0.295725</td>\n",
       "      <td>0.479981</td>\n",
       "      <td>0.080354</td>\n",
       "    </tr>\n",
       "  </tbody>\n",
       "</table>\n",
       "</div>"
      ],
      "text/plain": [
       "              Viral publication on San Valentin  Informative Content (News)  Unsuccessful Post\n",
       "num_comments                           0.411986                   -0.309146          -0.027735\n",
       "num_shares                             0.489206                   -0.120280           0.052642\n",
       "num_likes                              0.160566                    0.730318          -0.347984\n",
       "num_loves                              0.500223                    0.002535           0.064043\n",
       "num_wows                               0.295725                    0.479981           0.080354"
      ]
     },
     "execution_count": 367,
     "metadata": {},
     "output_type": "execute_result"
    }
   ],
   "source": [
    "# naming each principal component\n",
    "factor_loadings_2.columns = ['Viral publication on San Valentin', # -Num Loves, -Num shares, -Num comments\n",
    "                            'Informative Content (News)', # - Num likes, -Num Wows, - Num comments\n",
    "                            'Unsuccessful Post']   # -Num of Likes - All others are low \n",
    "                             \n",
    "\n",
    "\n",
    "    \n",
    "# checking the result\n",
    "factor_loadings_2.head(n=5)\n",
    "\n",
    "#With this, should we just classify each pca depends on type of content? With\n",
    "\n",
    "#REMEMBER TO INTERPRET BOTH SIDES ON THE PCA. Put below the table"
   ]
  },
  {
   "cell_type": "markdown",
   "id": "b3151f4a",
   "metadata": {},
   "source": [
    "<hr style=\"height:.9px;border:none;color:#333;background-color:#333;\" />\n",
    "\n",
    "<h3>Clustering</h3>\n",
    "\n",
    "<p>\n",
    "1.Decide on an ideal number of clusters and explain your rationale.\n",
    "The resulting groups are meaningful and distinct, these three segments represent unique segments \n",
    "with PCA-transformed data. \n",
    "Each cluster represents a different aspect of content strategy, amplifying what works on the first cluster, maintaining the consistency of the second cluster and correcting the course for the 3rd cluster for types or styles of post. \n",
    "</p>\n",
    "\n",
    "<p>\n",
    "2. Present and interpret each segment using cluster centroids and give an example of a \"normal\" post for each segment.\n",
    "\n",
    "Cluster 1 with variance 3.273609 is the highest variance between the three, this high variance suggests \n",
    "that this cluster includes posts that have varying degree of virality and engagement. This cluster \n",
    "represents a segment where targeted content has successfully engaged users, making it a crucial cluster \n",
    "for understanding impactful content strategies. An example for a 'normal' post would be a promotional Valentine's Day campaign from a jewelry brand, a photo of a couple with the product, alongside a discount code.\n",
    "The photo will be posted just right before Valentine´s Day to maximize visibility and engagement, using # to improve engagement.\n",
    "    \n",
    "Cluster 2 with variance 1.025052 includes lower variance that the cluster 1 but still notable, this cluster \n",
    "is more uniform but still varied in how they perform. This content has less fluctuation in engagement \n",
    "and reach, which could be indicative of regular followers. This cluster strategy might be optimized for \n",
    "consistency and reliability in viewer engagement. A normal post on this cluster would be a news update media outlet about a recent event. The content would be factual, aiming to educate the audience, and could include a long link after the post to read through  \n",
    "    \n",
    "Cluster 3 with variance 0.916344 explains post with lack of success, with minors variations among them. The example for his cluster could be a proorly time promotional post from a brand that gets lost amid, which failed on getting attention.\n",
    "   \n",
    "</p>\n",
    "3.Analyze the status types of each segment and report any findings related to photos.\n",
    "The analysis has code to show the quantity of each type of status do we have per segment. \n",
    "We can clearly see that photos are the highest across the 3 segments follow by video and then text. \n",
    "Photos Lead Engagement so that  suggest that they are the most engaging and preferred type of content among the audience. This indicates that visual content is key to capturing attention and driving interaction on social media platforms on our segments.\n",
    "</p>\n",
    "<hr style=\"height:.9px;border:none;color:#333;background-color:#333;\" />"
   ]
  },
  {
   "cell_type": "code",
   "execution_count": 368,
   "id": "10845fe0",
   "metadata": {},
   "outputs": [],
   "source": [
    "factor_loadings = pca_2.transform(df_pca_scaled)\n",
    "factor_loadings_df = pd.DataFrame(data = factor_loadings)\n",
    "factor_loadings_df.columns = factor_loadings_2.columns"
   ]
  },
  {
   "cell_type": "code",
   "execution_count": 369,
   "id": "8b591278",
   "metadata": {},
   "outputs": [
    {
     "name": "stderr",
     "output_type": "stream",
     "text": [
      "/Users/carmencastillomartin/anaconda3/lib/python3.11/site-packages/numpy/core/fromnumeric.py:3745: FutureWarning: The behavior of DataFrame.var with axis=None is deprecated, in a future version this will reduce over both axes and return a scalar. To retain the old behavior, pass axis=0 (or do not pass axis)\n",
      "  return var(axis=axis, dtype=dtype, out=out, ddof=ddof, **kwargs)\n"
     ]
    },
    {
     "data": {
      "text/plain": [
       "Viral publication on San Valentin    3.273609\n",
       "Informative Content (News)           1.025052\n",
       "Unsuccessful Post                    0.916344\n",
       "dtype: float64"
      ]
     },
     "execution_count": 369,
     "metadata": {},
     "output_type": "execute_result"
    }
   ],
   "source": [
    "# checking variance amongst clusters\n",
    "np.var(factor_loadings_df)"
   ]
  },
  {
   "cell_type": "code",
   "execution_count": 370,
   "id": "df07d7fe",
   "metadata": {},
   "outputs": [
    {
     "name": "stdout",
     "output_type": "stream",
     "text": [
      "Viral publication on San Valentin    3.273609\n",
      "Informative Content (News)           1.025052\n",
      "Unsuccessful Post                    0.916344\n",
      "dtype: float64 \n",
      "\n",
      "\n",
      "Viral publication on San Valentin    1.0\n",
      "Informative Content (News)           1.0\n",
      "Unsuccessful Post                    1.0\n",
      "dtype: float64\n"
     ]
    },
    {
     "name": "stderr",
     "output_type": "stream",
     "text": [
      "/Users/carmencastillomartin/anaconda3/lib/python3.11/site-packages/numpy/core/fromnumeric.py:3745: FutureWarning: The behavior of DataFrame.var with axis=None is deprecated, in a future version this will reduce over both axes and return a scalar. To retain the old behavior, pass axis=0 (or do not pass axis)\n",
      "  return var(axis=axis, dtype=dtype, out=out, ddof=ddof, **kwargs)\n"
     ]
    }
   ],
   "source": [
    "## Rescaling Data \n",
    "# applying the unsupervised_scaler function\n",
    "pca_rescaled = scaler(df =factor_loadings_df)\n",
    "\n",
    "\n",
    "# checking pre- and post-scaling variance\n",
    "print(np.var(factor_loadings_df), '\\n\\n')\n",
    "print(np.var(pca_rescaled))"
   ]
  },
  {
   "cell_type": "code",
   "execution_count": 371,
   "id": "1e22f9f0",
   "metadata": {},
   "outputs": [
    {
     "data": {
      "image/png": "[encoded data removed]",
      "text/plain": [
       "<Figure size 1200x1200 with 1 Axes>"
      ]
     },
     "metadata": {},
     "output_type": "display_data"
    }
   ],
   "source": [
    "## Dendogram Developing. Trying to understand how many cluster do we need \n",
    "\n",
    "standard_mergings_ward = linkage(y=pca_rescaled, method='ward', optimal_ordering=True)\n",
    "\n",
    "# setting plot size\n",
    "fig, ax = plt.subplots(figsize=(12, 12))\n",
    "\n",
    "# developing a dendrogram\n",
    "dendrogram(Z=standard_mergings_ward,\n",
    "           leaf_rotation=90,\n",
    "           leaf_font_size=6)\n",
    "\n",
    "# rendering the plot\n",
    "plt.show()"
   ]
  },
  {
   "cell_type": "code",
   "execution_count": 374,
   "id": "6d9faf17",
   "metadata": {},
   "outputs": [
    {
     "name": "stdout",
     "output_type": "stream",
     "text": [
      "Cluster\n",
      "1    2138\n",
      "0     135\n",
      "2      89\n",
      "Name: count, dtype: int64\n"
     ]
    }
   ],
   "source": [
    "# INSTANTIATING a k-Means object with clusters\n",
    "df_facebook_k_pca = KMeans(n_clusters   = 3     ,\n",
    "                         n_init       = 'auto',\n",
    "                         random_state = 702   )\n",
    "\n",
    "\n",
    "# fitting the object to the data\n",
    "df_facebook_k_pca.fit(pca_rescaled)\n",
    "\n",
    "\n",
    "# converting the clusters to a DataFrame\n",
    "facebook_Kmeans_pca = pd.DataFrame({'Cluster': customers_k_pca.labels_})\n",
    "\n",
    "\n",
    "# checking the results\n",
    "print(customers_kmeans_pca.iloc[: , 0].value_counts())"
   ]
  },
  {
   "cell_type": "code",
   "execution_count": 382,
   "id": "93862c23",
   "metadata": {},
   "outputs": [
    {
     "name": "stdout",
     "output_type": "stream",
     "text": [
      "status_type  photo  text  video\n",
      "Cluster                        \n",
      "0               73    29     33\n",
      "1             1364   127    647\n",
      "2                6     0     83\n"
     ]
    },
    {
     "name": "stderr",
     "output_type": "stream",
     "text": [
      "/Users/carmencastillomartin/anaconda3/lib/python3.11/site-packages/sklearn/cluster/_kmeans.py:1412: FutureWarning: The default value of `n_init` will change from 10 to 'auto' in 1.4. Set the value of `n_init` explicitly to suppress the warning\n",
      "  super()._check_params_vs_input(X, default_n_init=10)\n"
     ]
    }
   ],
   "source": [
    "##############################################################################\n",
    "################ Understanding how is the content of each cluster ############\n",
    "##############################################################################\n",
    "\n",
    "kmeans = KMeans(n_clusters=3, random_state=702)  \n",
    "df['Cluster'] = kmeans.fit_predict(pca_rescaled)\n",
    "\n",
    "# Analyze status_type for each cluster\n",
    "cluster_status_type = df.groupby('Cluster')['status_type'].value_counts().unstack(fill_value=0)\n",
    "print(cluster_status_type)\n"
   ]
  },
  {
   "cell_type": "markdown",
   "id": "df688d09",
   "metadata": {},
   "source": [
    "<hr style=\"height:.9px;border:none;color:#333;background-color:#333;\" />\n",
    "\n",
    "<h3>Logistic Regression</h3>\n",
    "\n",
    "<p>\n",
    "On this apartment, three logistic regression models that would predict if the type of post will \n",
    "likely be photo or not photo. Then each model will be evaluate by Train-Test Gap and Test AUC Score.\n",
    "Then a model will be selected depending on which one will get a lower Train-Test Gap\n",
    "</p>\n",
    "\n",
    "<hr style=\"height:.9px;border:none;color:#333;background-color:#333;\" />"
   ]
  },
  {
   "cell_type": "code",
   "execution_count": 242,
   "id": "6aa54209",
   "metadata": {},
   "outputs": [],
   "source": [
    "# standard_scaler\n",
    "def standard_scaler(df):\n",
    "    \"\"\"\n",
    "    Standardizes a dataset (mean = 0, variance = 1). Returns a new DataFrame.\n",
    "    Requires sklearn.preprocessing.StandardScaler()\n",
    "    \n",
    "    PARAMETERS\n",
    "    ----------\n",
    "    df     | DataFrame to be used for scaling\n",
    "    \"\"\"\n",
    "\n",
    "    # INSTANTIATING a StandardScaler() object\n",
    "    scaler = StandardScaler(copy = True)\n",
    "\n",
    "\n",
    "    # FITTING the scaler with the data\n",
    "    scaler.fit(df)\n",
    "\n",
    "\n",
    "    # TRANSFORMING our data after fit\n",
    "    x_scaled = scaler.transform(df)\n",
    "\n",
    "    \n",
    "    # converting scaled data into a DataFrame\n",
    "    new_df = pd.DataFrame(x_scaled)\n",
    "\n",
    "\n",
    "    # reattaching column names\n",
    "    new_df.columns = list(df.columns)\n",
    "    \n",
    "    return new_df"
   ]
  },
  {
   "cell_type": "code",
   "execution_count": 243,
   "id": "d35531f8",
   "metadata": {},
   "outputs": [],
   "source": [
    "##############################################################################\n",
    "######################## 01. Model with PCA retained #########################\n",
    "##############################################################################\n",
    "\n",
    "df_continuos = df[ ['num_comments', 'num_shares', 'num_likes',\n",
    "                               'num_loves', 'num_wows', 'num_hahas',\n",
    "                               'num_sads', 'num_angrys'] ]\n",
    "\n",
    "\n",
    "\n",
    "# scaling the data\n",
    "pca_data = standard_scaler(df = df_continuos)"
   ]
  },
  {
   "cell_type": "code",
   "execution_count": 312,
   "id": "10ec96d7",
   "metadata": {},
   "outputs": [],
   "source": [
    "# turning status_type into numeric (1 = photo, 0 = not photo)\n",
    "df['status_type_numeric'] = np.where(df['status_type'] == 'photo', 1, 0)"
   ]
  },
  {
   "cell_type": "code",
   "execution_count": 245,
   "id": "89fcd19c",
   "metadata": {},
   "outputs": [],
   "source": [
    "##############################################################################\n",
    "#################### Classification with PCA retained  #######################\n",
    "##############################################################################\n",
    "\n",
    "\n",
    "x_data = pca_fit_2\n",
    "y_data =df['status_type_numeric']\n",
    "\n",
    "\n",
    "# training and testing sets\n",
    "x_train, x_test, y_train, y_test = train_test_split(x_data,\n",
    "                                                    y_data,\n",
    "                                                    test_size    = 0.25,\n",
    "                                                    random_state = 702,\n",
    "                                                    stratify     = y_data)"
   ]
  },
  {
   "cell_type": "code",
   "execution_count": 246,
   "id": "0de2ba9a",
   "metadata": {},
   "outputs": [
    {
     "name": "stdout",
     "output_type": "stream",
     "text": [
      "\n",
      "Train-Test Gap: 0.008\n",
      "Test AUC Score: 0.667\n",
      "\n"
     ]
    }
   ],
   "source": [
    "# INSTANTIATING a logistic regression model\n",
    "model = sklearn.linear_model.LogisticRegression(solver       = 'lbfgs',\n",
    "                                                C            = 1,\n",
    "                                                random_state = 702)\n",
    "\n",
    "\n",
    "# FITTING the training data\n",
    "model_fit = model.fit(x_train, y_train)\n",
    "\n",
    "\n",
    "# PREDICTING based on the testing set\n",
    "model_pred = model_fit.predict(x_test) # predict_proba for multiclass\n",
    "\n",
    "\n",
    "# checking results\n",
    "train_acc = model_fit.score(x_train, y_train)\n",
    "test_acc  = model_fit.score(x_test , y_test )\n",
    "roc_score = roc_auc_score  (y_true      = y_test,\n",
    "                            y_score     = model_pred)\n",
    "\n",
    "\n",
    "print(f\"\"\"\n",
    "Train-Test Gap: {round(abs(train_acc - test_acc), ndigits = 3)}\n",
    "Test AUC Score: {roc_score.round(decimals = 3)}\n",
    "\"\"\")"
   ]
  },
  {
   "cell_type": "code",
   "execution_count": 247,
   "id": "9c52fdae",
   "metadata": {},
   "outputs": [
    {
     "name": "stdout",
     "output_type": "stream",
     "text": [
      "\n",
      "True Negatives : 85\n",
      "False Positives: 145\n",
      "False Negatives: 13\n",
      "True Positives : 348\n",
      "\n"
     ]
    }
   ],
   "source": [
    "# unpacking the confusion matrix\n",
    "model_tn, \\\n",
    "model_fp, \\\n",
    "model_fn, \\\n",
    "model_tp = confusion_matrix(y_true = y_test, y_pred = model_pred).ravel()\n",
    "\n",
    "\n",
    "# printing each result one-by-one\n",
    "print(f\"\"\"\n",
    "True Negatives : {model_tn}\n",
    "False Positives: {model_fp}\n",
    "False Negatives: {model_fn}\n",
    "True Positives : {model_tp}\n",
    "\"\"\")"
   ]
  },
  {
   "cell_type": "code",
   "execution_count": 248,
   "id": "f4a1c34f",
   "metadata": {},
   "outputs": [],
   "source": [
    "##############################################################################\n",
    "########################### 02. Model x-features ##############################\n",
    "##############################################################################\n",
    "\n",
    "x_data = df_continuos\n",
    "y_data =df['status_type_numeric']\n",
    "\n",
    "\n",
    "# training and testing sets\n",
    "x_train, x_test, y_train, y_test = train_test_split(x_data,\n",
    "                                                    y_data,\n",
    "                                                    test_size    = 0.25,\n",
    "                                                    random_state = 702,\n",
    "                                                    stratify     = y_data)"
   ]
  },
  {
   "cell_type": "code",
   "execution_count": 249,
   "id": "6a318527",
   "metadata": {},
   "outputs": [
    {
     "name": "stdout",
     "output_type": "stream",
     "text": [
      "\n",
      "Train-Test Gap: 0.017\n",
      "Test AUC Score: 0.678\n",
      "\n"
     ]
    }
   ],
   "source": [
    "# INSTANTIATING a logistic regression model\n",
    "model = sklearn.linear_model.LogisticRegression(solver       = 'lbfgs',\n",
    "                                                C            = 1,\n",
    "                                                random_state = 702)\n",
    "\n",
    "\n",
    "# FITTING the training data\n",
    "model_fit = model.fit(x_train, y_train)\n",
    "\n",
    "\n",
    "# PREDICTING based on the testing set\n",
    "model_pred = model_fit.predict(x_test) # predict_proba for multiclass\n",
    "\n",
    "\n",
    "# checking results\n",
    "train_acc = model_fit.score(x_train, y_train)\n",
    "test_acc  = model_fit.score(x_test , y_test )\n",
    "roc_score = roc_auc_score  (y_true      = y_test,\n",
    "                            y_score     = model_pred)\n",
    "\n",
    "\n",
    "print(f\"\"\"\n",
    "Train-Test Gap: {round(abs(train_acc - test_acc), ndigits = 3)}\n",
    "Test AUC Score: {roc_score.round(decimals = 3)}\n",
    "\"\"\")"
   ]
  },
  {
   "cell_type": "code",
   "execution_count": 250,
   "id": "26f83425",
   "metadata": {},
   "outputs": [
    {
     "name": "stdout",
     "output_type": "stream",
     "text": [
      "\n",
      "True Negatives : 92\n",
      "False Positives: 138\n",
      "False Negatives: 16\n",
      "True Positives : 345\n",
      "\n"
     ]
    }
   ],
   "source": [
    "# unpacking the confusion matrix\n",
    "model_tn, \\\n",
    "model_fp, \\\n",
    "model_fn, \\\n",
    "model_tp = confusion_matrix(y_true = y_test, y_pred = model_pred).ravel()\n",
    "\n",
    "\n",
    "# printing each result one-by-one\n",
    "print(f\"\"\"\n",
    "True Negatives : {model_tn}\n",
    "False Positives: {model_fp}\n",
    "False Negatives: {model_fn}\n",
    "True Positives : {model_tp}\n",
    "\"\"\")"
   ]
  },
  {
   "cell_type": "code",
   "execution_count": 254,
   "id": "f07d2f2a",
   "metadata": {},
   "outputs": [
    {
     "name": "stdout",
     "output_type": "stream",
     "text": [
      "Cluster\n",
      "1    2138\n",
      "0     135\n",
      "2      89\n",
      "Name: count, dtype: int64\n"
     ]
    }
   ],
   "source": [
    "##############################################################################\n",
    "################## 03. Classification Models with Clustering #################\n",
    "##############################################################################\n",
    "\n",
    "# Standardizing the data for clustering\n",
    "pca_rescaled = standard_scaler(df = pd.DataFrame(data = pca_fit_2))\n",
    "\n",
    "\n",
    "# INSTANTIATING a k-Means object with clusters\n",
    "facebook_k_pca = KMeans(n_clusters   = 3     ,\n",
    "                         n_init       = 'auto',\n",
    "                         random_state = 702   )\n",
    "\n",
    "\n",
    "# fitting the object to the data\n",
    "facebook_k_pca.fit(pca_rescaled)\n",
    "\n",
    "\n",
    "# converting the clusters to a DataFrame\n",
    "facebook_kmeans_pca = pd.DataFrame({'Cluster': facebook_k_pca.labels_})\n",
    "\n",
    "\n",
    "# checking cluster populations\n",
    "print(facebook_kmeans_pca.iloc[: , 0].value_counts())"
   ]
  },
  {
   "cell_type": "code",
   "execution_count": 258,
   "id": "266bbfbc",
   "metadata": {},
   "outputs": [
    {
     "data": {
      "text/html": [
       "<div>\n",
       "<style scoped>\n",
       "    .dataframe tbody tr th:only-of-type {\n",
       "        vertical-align: middle;\n",
       "    }\n",
       "\n",
       "    .dataframe tbody tr th {\n",
       "        vertical-align: top;\n",
       "    }\n",
       "\n",
       "    .dataframe thead th {\n",
       "        text-align: right;\n",
       "    }\n",
       "</style>\n",
       "<table border=\"1\" class=\"dataframe\">\n",
       "  <thead>\n",
       "    <tr style=\"text-align: right;\">\n",
       "      <th></th>\n",
       "      <th>Cluster</th>\n",
       "    </tr>\n",
       "  </thead>\n",
       "  <tbody>\n",
       "    <tr>\n",
       "      <th>0</th>\n",
       "      <td>1</td>\n",
       "    </tr>\n",
       "    <tr>\n",
       "      <th>1</th>\n",
       "      <td>1</td>\n",
       "    </tr>\n",
       "    <tr>\n",
       "      <th>2</th>\n",
       "      <td>1</td>\n",
       "    </tr>\n",
       "  </tbody>\n",
       "</table>\n",
       "</div>"
      ],
      "text/plain": [
       "   Cluster\n",
       "0        1\n",
       "1        1\n",
       "2        1"
      ]
     },
     "execution_count": 258,
     "metadata": {},
     "output_type": "execute_result"
    }
   ],
   "source": [
    "# checking which observations belong to each cluster\n",
    "facebook_kmeans_pca.head(n = 3)"
   ]
  },
  {
   "cell_type": "code",
   "execution_count": 259,
   "id": "55e6ff7b",
   "metadata": {},
   "outputs": [
    {
     "data": {
      "text/plain": [
       "1  2\n",
       "1  0    2138\n",
       "0  1      89\n",
       "   0     135\n",
       "Name: count, dtype: int64"
      ]
     },
     "execution_count": 259,
     "metadata": {},
     "output_type": "execute_result"
    }
   ],
   "source": [
    "# factorizing cluster results. we should assume that each cluster is indepedant\n",
    "\n",
    "cluster_df = pd.get_dummies(data       = facebook_kmeans_pca['Cluster'],\n",
    "                            drop_first = True).astype(dtype = int)\n",
    "\n",
    "\n",
    "# checking results\n",
    "cluster_df.value_counts(normalize = False).sort_index(ascending = False)"
   ]
  },
  {
   "cell_type": "code",
   "execution_count": 261,
   "id": "b9d18e22",
   "metadata": {},
   "outputs": [],
   "source": [
    "# selecting x- and y-data\n",
    "x_data = cluster_df\n",
    "y_data =df['status_type_numeric']\n",
    "\n",
    "\n",
    "# training and testing sets\n",
    "x_train, x_test, y_train, y_test = train_test_split(x_data,\n",
    "                                                    y_data,\n",
    "                                                    test_size    = 0.25,\n",
    "                                                    random_state = 702,\n",
    "                                                    stratify     = y_data)"
   ]
  },
  {
   "cell_type": "code",
   "execution_count": 262,
   "id": "80446efa",
   "metadata": {},
   "outputs": [
    {
     "name": "stdout",
     "output_type": "stream",
     "text": [
      "\n",
      "Train-Test Gap: 0.019\n",
      "Test AUC Score: 0.527\n",
      "\n"
     ]
    }
   ],
   "source": [
    "model = sklearn.linear_model.LogisticRegression(solver       = 'lbfgs',\n",
    "                                                C            = 1,\n",
    "                                                random_state = 702)\n",
    "\n",
    "\n",
    "# FITTING the training data\n",
    "model_fit = model.fit(x_train, y_train)\n",
    "\n",
    "\n",
    "# PREDICTING based on the testing set\n",
    "model_pred = model_fit.predict(x_test) # predict_proba for multiclass\n",
    "\n",
    "\n",
    "# checking results\n",
    "train_acc = model_fit.score(x_train, y_train)\n",
    "test_acc  = model_fit.score(x_test , y_test )\n",
    "roc_score = roc_auc_score  (y_true  = y_test,\n",
    "                            y_score = model_pred)\n",
    "\n",
    "\n",
    "print(f\"\"\"\n",
    "Train-Test Gap: {round(abs(train_acc - test_acc), ndigits = 3)}\n",
    "Test AUC Score: {round(roc_score, ndigits = 3)}\n",
    "\"\"\")"
   ]
  },
  {
   "cell_type": "code",
   "execution_count": 265,
   "id": "0dca10bc",
   "metadata": {},
   "outputs": [
    {
     "data": {
      "text/html": [
       "<div>\n",
       "<style scoped>\n",
       "    .dataframe tbody tr th:only-of-type {\n",
       "        vertical-align: middle;\n",
       "    }\n",
       "\n",
       "    .dataframe tbody tr th {\n",
       "        vertical-align: top;\n",
       "    }\n",
       "\n",
       "    .dataframe thead th {\n",
       "        text-align: right;\n",
       "    }\n",
       "</style>\n",
       "<table border=\"1\" class=\"dataframe\">\n",
       "  <thead>\n",
       "    <tr style=\"text-align: right;\">\n",
       "      <th></th>\n",
       "      <th>0</th>\n",
       "      <th>1</th>\n",
       "      <th>2</th>\n",
       "    </tr>\n",
       "  </thead>\n",
       "  <tbody>\n",
       "    <tr>\n",
       "      <th>0</th>\n",
       "      <td>0.41</td>\n",
       "      <td>2.94</td>\n",
       "      <td>-1.09</td>\n",
       "    </tr>\n",
       "    <tr>\n",
       "      <th>1</th>\n",
       "      <td>-0.18</td>\n",
       "      <td>-0.13</td>\n",
       "      <td>0.10</td>\n",
       "    </tr>\n",
       "    <tr>\n",
       "      <th>2</th>\n",
       "      <td>3.77</td>\n",
       "      <td>-1.40</td>\n",
       "      <td>-0.78</td>\n",
       "    </tr>\n",
       "  </tbody>\n",
       "</table>\n",
       "</div>"
      ],
      "text/plain": [
       "      0     1     2\n",
       "0  0.41  2.94 -1.09\n",
       "1 -0.18 -0.13  0.10\n",
       "2  3.77 -1.40 -0.78"
      ]
     },
     "execution_count": 265,
     "metadata": {},
     "output_type": "execute_result"
    }
   ],
   "source": [
    "# storing cluster centers\n",
    "centroids_pca = pd.DataFrame(data = facebook_k_pca.cluster_centers_)\n",
    "\n",
    "\n",
    "# checking cluster centers\n",
    "centroids_pca.round(decimals = 2)"
   ]
  },
  {
   "cell_type": "code",
   "execution_count": 266,
   "id": "c1dbb073",
   "metadata": {},
   "outputs": [
    {
     "name": "stdout",
     "output_type": "stream",
     "text": [
      "\n",
      "True Negatives : 15\n",
      "False Positives: 215\n",
      "False Negatives: 4\n",
      "True Positives : 357\n",
      "\n"
     ]
    }
   ],
   "source": [
    "# unpacking the confusion matrix\n",
    "model_tn, \\\n",
    "model_fp, \\\n",
    "model_fn, \\\n",
    "model_tp = confusion_matrix(y_true = y_test, y_pred = model_pred).ravel()\n",
    "\n",
    "\n",
    "# printing each result one-by-one\n",
    "print(f\"\"\"\n",
    "True Negatives : {model_tn}\n",
    "False Positives: {model_fp}\n",
    "False Negatives: {model_fn}\n",
    "True Positives : {model_tp}\n",
    "\"\"\")"
   ]
  },
  {
   "cell_type": "markdown",
   "id": "ab407ca4",
   "metadata": {},
   "source": [
    "<hr style=\"height:.9px;border:none;color:#333;background-color:#333;\" />\n",
    "\n",
    "<h3>Final Model Selection</h3>\n",
    "\n",
    "<p>\n",
    "\n",
    "Selecting numerical continuous variables (num_comments, num_shares, num_likes, num_loves, num_wows, num_hahas, num_sads, num_angrys) which represent different types of interactions users have with posts on a platform. \n",
    "\n",
    "Setting up the targeting variable status_type_numeric from status_type, where posts labeled as 'photo' are coded as 1, and all other types as 0. This is the outcome will get and help us to predict if a given post is a photo or not based on its engagement metrics.\n",
    "\n",
    "The logistic regression model is instantiated and fitted to the training data. Logistic regression is a robust  method for binary classification that provides probabilities along with classification results.\n",
    "\n",
    "We have evaluate the model using accuracy (the proportion of total predictions that were correct) and the AUC (Area Under the ROC Curve) score, which assesses the model's ability to discriminate between the two classes across all thresholds. The results show:\n",
    "\n",
    "Train-Test Gap: The small gap (0.008) between training and testing accuracy suggests that the model is not overfitting and generalizes well to unseen data. That is why we have selected between the other two as it is the lowest gap \n",
    "Test AUC Score: An AUC of 0.667 suggests moderate discriminatory ability. This model might be improved if tunning \n",
    "\n",
    "When it comes to the confusion matrix provides a detailed breakdown of the model's predictions:\n",
    "\n",
    "True Negatives (85): Posts correctly predicted as not being photos.\n",
    "False Positives (145): Posts incorrectly predicted as photos.\n",
    "False Negatives (13): Photos incorrectly predicted as not being photos.\n",
    "True Positives (348): Photos correctly identified.\n",
    "    \n",
    "\n",
    "As we see on the results the model is particularly good at identifying 'photo' posts but has a relatively high rate of false positives, where non-photo posts are misclassified as photos. The model provides a good approach for classifying posts based on the engagement metrics. \n",
    "</p>\n",
    "\n",
    "<hr style=\"height:.9px;border:none;color:#333;background-color:#333;\" />"
   ]
  },
  {
   "cell_type": "code",
   "execution_count": 310,
   "id": "dbde0eb0",
   "metadata": {},
   "outputs": [],
   "source": [
    "##############################################################################\n",
    "################# 01. Model with PCA retained - Final Model ##################\n",
    "##############################################################################\n",
    "\n",
    "df_continuos = df[ ['num_comments', 'num_shares', 'num_likes',\n",
    "                               'num_loves', 'num_wows', 'num_hahas',\n",
    "                               'num_sads', 'num_angrys'] ]\n",
    "\n",
    "\n",
    "\n",
    "# scaling the data\n",
    "pca_data = standard_scaler(df = df_continuos)"
   ]
  },
  {
   "cell_type": "code",
   "execution_count": 313,
   "id": "cb8c0f13",
   "metadata": {},
   "outputs": [],
   "source": [
    "##############################################################################\n",
    "#################### Classification with PCA retained  #######################\n",
    "##############################################################################\n",
    "\n",
    "\n",
    "x_data = pca_fit_2\n",
    "y_data =df['status_type_numeric']\n",
    "\n",
    "\n",
    "# training and testing sets\n",
    "x_train, x_test, y_train, y_test = train_test_split(x_data,\n",
    "                                                    y_data,\n",
    "                                                    test_size    = 0.25,\n",
    "                                                    random_state = 702,\n",
    "                                                    stratify     = y_data)"
   ]
  },
  {
   "cell_type": "code",
   "execution_count": 314,
   "id": "8607f547",
   "metadata": {},
   "outputs": [
    {
     "name": "stdout",
     "output_type": "stream",
     "text": [
      "\n",
      "Train-Test Gap: 0.008\n",
      "Test AUC Score: 0.667\n",
      "\n"
     ]
    }
   ],
   "source": [
    "# INSTANTIATING a logistic regression model\n",
    "model = sklearn.linear_model.LogisticRegression(solver       = 'lbfgs',\n",
    "                                                C            = 1,\n",
    "                                                random_state = 702)\n",
    "\n",
    "\n",
    "# FITTING the training data\n",
    "model_fit = model.fit(x_train, y_train)\n",
    "\n",
    "\n",
    "# PREDICTING based on the testing set\n",
    "model_pred = model_fit.predict(x_test) # predict_proba for multiclass\n",
    "\n",
    "\n",
    "# checking results\n",
    "train_acc = model_fit.score(x_train, y_train)\n",
    "test_acc  = model_fit.score(x_test , y_test )\n",
    "roc_score = roc_auc_score  (y_true      = y_test,\n",
    "                            y_score     = model_pred)\n",
    "\n",
    "\n",
    "print(f\"\"\"\n",
    "Train-Test Gap: {round(abs(train_acc - test_acc), ndigits = 3)}\n",
    "Test AUC Score: {roc_score.round(decimals = 3)}\n",
    "\"\"\")"
   ]
  },
  {
   "cell_type": "code",
   "execution_count": 315,
   "id": "03ebeaff",
   "metadata": {},
   "outputs": [
    {
     "name": "stdout",
     "output_type": "stream",
     "text": [
      "\n",
      "True Negatives : 85\n",
      "False Positives: 145\n",
      "False Negatives: 13\n",
      "True Positives : 348\n",
      "\n"
     ]
    }
   ],
   "source": [
    "# unpacking the confusion matrix\n",
    "model_tn, \\\n",
    "model_fp, \\\n",
    "model_fn, \\\n",
    "model_tp = confusion_matrix(y_true = y_test, y_pred = model_pred).ravel()\n",
    "\n",
    "\n",
    "# printing each result one-by-one\n",
    "print(f\"\"\"\n",
    "True Negatives : {model_tn}\n",
    "False Positives: {model_fp}\n",
    "False Negatives: {model_fn}\n",
    "True Positives : {model_tp}\n",
    "\"\"\")"
   ]
  }
 ],
 "metadata": {
  "kernelspec": {
   "display_name": "Python 3 (ipykernel)",
   "language": "python",
   "name": "python3"
  },
  "language_info": {
   "codemirror_mode": {
    "name": "ipython",
    "version": 3
   },
   "file_extension": ".py",
   "mimetype": "text/x-python",
   "name": "python",
   "nbconvert_exporter": "python",
   "pygments_lexer": "ipython3",
   "version": "3.11.5"
  },
  "toc": {
   "base_numbering": 1,
   "nav_menu": {},
   "number_sections": true,
   "sideBar": true,
   "skip_h1_title": false,
   "title_cell": "Table of Contents",
   "title_sidebar": "Contents",
   "toc_cell": false,
   "toc_position": {},
   "toc_section_display": true,
   "toc_window_display": false
  },
  "varInspector": {
   "cols": {
    "lenName": 16,
    "lenType": 16,
    "lenVar": 40
   },
   "kernels_config": {
    "python": {
     "delete_cmd_postfix": "",
     "delete_cmd_prefix": "del ",
     "library": "var_list.py",
     "varRefreshCmd": "print(var_dic_list())"
    },
    "r": {
     "delete_cmd_postfix": ") ",
     "delete_cmd_prefix": "rm(",
     "library": "var_list.r",
     "varRefreshCmd": "cat(var_dic_list()) "
    }
   },
   "types_to_exclude": [
    "module",
    "function",
    "builtin_function_or_method",
    "instance",
    "_Feature"
   ],
   "window_display": false
  }
 },
 "nbformat": 4,
 "nbformat_minor": 5
}
